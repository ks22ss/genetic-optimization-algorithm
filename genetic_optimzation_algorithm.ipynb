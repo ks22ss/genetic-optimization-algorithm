{
 "cells": [
  {
   "cell_type": "markdown",
   "metadata": {},
   "source": [
    "# Genetic Optimization Algorithm"
   ]
  },
  {
   "cell_type": "markdown",
   "metadata": {},
   "source": [
    "The code below demonstrate the implementation of genetic optimization algorithm in python"
   ]
  },
  {
   "cell_type": "code",
   "execution_count": 98,
   "metadata": {},
   "outputs": [],
   "source": [
    "import numpy as np\n",
    "\n",
    "OBJECTIVE = 100 # the value you want to achieve\n",
    "STEPS_SIZE = 0.02 # mutation steps\n",
    "INITIAL_N = 100000 # inital number of gen\n",
    "BEST_N_PCT = 0.1 # define the best gen by top n %\n",
    "\n",
    "# 1 Define a function we want to optimize\n",
    "def function(a,b,c,d,e, *arg):\n",
    "    return 5*a**4 + 12*b - 38*c**2 - 2*d*e/9\n",
    "\n",
    "# 2 Define an objective function to measure fitness\n",
    "def objective_func(a,b,c,d,e, objective):\n",
    "    answer = function(a,b,c,d,e)\n",
    "    return 1 / abs(answer - objective)\n",
    "\n",
    "# 3 Function to help pick the best n\n",
    "def pick_best_gen(result, mutation_loop):\n",
    "    result.sort()\n",
    "    result.reverse()\n",
    "    best_gen =result[:int(INITIAL_N*BEST_N_PCT)]\n",
    "    score = best_gen[0][0]\n",
    "    print(f\"The score of {mutation_loop} iteration: {score}\")\n",
    "    return best_gen"
   ]
  },
  {
   "cell_type": "markdown",
   "metadata": {},
   "source": [
    "Run the initial iteration by generate Random numbers as parameters and pick the best n combination"
   ]
  },
  {
   "cell_type": "code",
   "execution_count": 99,
   "metadata": {},
   "outputs": [],
   "source": [
    "# 2. Run the initial iteration by generate Random numbers as parameters and pick the best n combination\n",
    "def initial_iteration(mutation_loop):\n",
    "    result = []\n",
    "    for i in range(INITIAL_N):\n",
    "        params = np.random.random(5)\n",
    "        a = params[0]\n",
    "        b = params[1]\n",
    "        c = params[2]\n",
    "        d = params[3]\n",
    "        e = params[4]\n",
    "        ans = objective_func(a,b,c,d,e, OBJECTIVE)\n",
    "        result.append((ans, params))\n",
    "    return pick_best_gen(result, mutation_loop)\n"
   ]
  },
  {
   "cell_type": "markdown",
   "metadata": {},
   "source": [
    "Mutate the best parameters "
   ]
  },
  {
   "cell_type": "code",
   "execution_count": 100,
   "metadata": {},
   "outputs": [],
   "source": [
    "# 3. Mutate the best parameters \n",
    "def mutation(gen, mutation_loop):\n",
    "    result = []\n",
    "    for gen in gen:\n",
    "        mutate_value = np.random.uniform(-STEPS_SIZE,STEPS_SIZE)\n",
    "        a = gen[1][0] + mutate_value\n",
    "        b = gen[1][1] + mutate_value\n",
    "        c = gen[1][2] + mutate_value\n",
    "        d = gen[1][3] + mutate_value\n",
    "        e = gen[1][4] + mutate_value\n",
    "        ans = objective_func(a,b,c,d,e, OBJECTIVE)\n",
    "        result.append((ans, (a,b,c,d,e)))\n",
    "    return pick_best_gen(result, mutation_loop)\n"
   ]
  },
  {
   "cell_type": "markdown",
   "metadata": {},
   "source": [
    "repeat the process again"
   ]
  },
  {
   "cell_type": "code",
   "execution_count": 101,
   "metadata": {},
   "outputs": [],
   "source": [
    "# 4. repeat the process again\n",
    "def optimization(n_iter = 10):\n",
    "    best_gens = []\n",
    "    m = 0\n",
    "    gen = initial_iteration(m)\n",
    "    best_gens.append(gen[0])\n",
    "    for m in range(1, n_iter):\n",
    "        gen = mutation(gen, m)\n",
    "        best_gens.append(gen[0])\n",
    "    return pick_best_gen(best_gens, \"last\")[0]"
   ]
  },
  {
   "cell_type": "code",
   "execution_count": 108,
   "metadata": {},
   "outputs": [
    {
     "name": "stdout",
     "output_type": "stream",
     "text": [
      "The score of 0 iteration: 170737.99290164709\n",
      "The score of 1 iteration: 5672.597265589044\n",
      "The score of 2 iteration: 4901.541286262673\n",
      "The score of 3 iteration: 7269.0678871683285\n",
      "The score of 4 iteration: 12898.870654652208\n",
      "The score of last iteration: 170737.99290164709\n"
     ]
    }
   ],
   "source": [
    "# let's do 5 times\n",
    "best_gen = optimization(5)"
   ]
  },
  {
   "cell_type": "code",
   "execution_count": 109,
   "metadata": {},
   "outputs": [],
   "source": [
    "my_closest_value = function(*best_gen[1])"
   ]
  },
  {
   "cell_type": "code",
   "execution_count": 110,
   "metadata": {},
   "outputs": [
    {
     "data": {
      "text/plain": [
       "5.856927231047198e-06"
      ]
     },
     "execution_count": 110,
     "metadata": {},
     "output_type": "execute_result"
    }
   ],
   "source": [
    "my_closest_value"
   ]
  },
  {
   "cell_type": "code",
   "execution_count": null,
   "metadata": {},
   "outputs": [],
   "source": []
  }
 ],
 "metadata": {
  "kernelspec": {
   "display_name": "Python 3.9.12 ('quant': venv)",
   "language": "python",
   "name": "python3"
  },
  "language_info": {
   "codemirror_mode": {
    "name": "ipython",
    "version": 3
   },
   "file_extension": ".py",
   "mimetype": "text/x-python",
   "name": "python",
   "nbconvert_exporter": "python",
   "pygments_lexer": "ipython3",
   "version": "3.9.12"
  },
  "orig_nbformat": 4,
  "vscode": {
   "interpreter": {
    "hash": "3de29b8f7a11c76bb793a2166b306a66e2c8f9ddf3e39e1b2af7ec63fc4a1124"
   }
  }
 },
 "nbformat": 4,
 "nbformat_minor": 2
}
